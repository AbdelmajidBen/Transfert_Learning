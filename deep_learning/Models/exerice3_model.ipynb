{
 "cells": [
  {
   "cell_type": "code",
   "execution_count": 1,
   "metadata": {},
   "outputs": [],
   "source": [
    "import pandas as pd \n",
    "import numpy as np \n",
    "from sklearn.model_selection import train_test_split\n"
   ]
  },
  {
   "cell_type": "code",
   "execution_count": 2,
   "metadata": {},
   "outputs": [],
   "source": [
    "df = pd.read_csv('../datasets/d5.csv')"
   ]
  },
  {
   "cell_type": "code",
   "execution_count": 3,
   "metadata": {},
   "outputs": [
    {
     "data": {
      "text/html": [
       "<div>\n",
       "<style scoped>\n",
       "    .dataframe tbody tr th:only-of-type {\n",
       "        vertical-align: middle;\n",
       "    }\n",
       "\n",
       "    .dataframe tbody tr th {\n",
       "        vertical-align: top;\n",
       "    }\n",
       "\n",
       "    .dataframe thead th {\n",
       "        text-align: right;\n",
       "    }\n",
       "</style>\n",
       "<table border=\"1\" class=\"dataframe\">\n",
       "  <thead>\n",
       "    <tr style=\"text-align: right;\">\n",
       "      <th></th>\n",
       "      <th>Date</th>\n",
       "      <th>Energy Consumption</th>\n",
       "    </tr>\n",
       "  </thead>\n",
       "  <tbody>\n",
       "    <tr>\n",
       "      <th>0</th>\n",
       "      <td>2020-01-01</td>\n",
       "      <td>305.311409</td>\n",
       "    </tr>\n",
       "    <tr>\n",
       "      <th>1</th>\n",
       "      <td>2020-01-02</td>\n",
       "      <td>299.374329</td>\n",
       "    </tr>\n",
       "    <tr>\n",
       "      <th>2</th>\n",
       "      <td>2020-01-03</td>\n",
       "      <td>307.646359</td>\n",
       "    </tr>\n",
       "    <tr>\n",
       "      <th>3</th>\n",
       "      <td>2020-01-04</td>\n",
       "      <td>316.811967</td>\n",
       "    </tr>\n",
       "    <tr>\n",
       "      <th>4</th>\n",
       "      <td>2020-01-05</td>\n",
       "      <td>299.651923</td>\n",
       "    </tr>\n",
       "    <tr>\n",
       "      <th>...</th>\n",
       "      <td>...</td>\n",
       "      <td>...</td>\n",
       "    </tr>\n",
       "    <tr>\n",
       "      <th>1455</th>\n",
       "      <td>2023-12-26</td>\n",
       "      <td>380.398916</td>\n",
       "    </tr>\n",
       "    <tr>\n",
       "      <th>1456</th>\n",
       "      <td>2023-12-27</td>\n",
       "      <td>405.951747</td>\n",
       "    </tr>\n",
       "    <tr>\n",
       "      <th>1457</th>\n",
       "      <td>2023-12-28</td>\n",
       "      <td>402.642110</td>\n",
       "    </tr>\n",
       "    <tr>\n",
       "      <th>1458</th>\n",
       "      <td>2023-12-29</td>\n",
       "      <td>412.140555</td>\n",
       "    </tr>\n",
       "    <tr>\n",
       "      <th>1459</th>\n",
       "      <td>2023-12-30</td>\n",
       "      <td>406.387546</td>\n",
       "    </tr>\n",
       "  </tbody>\n",
       "</table>\n",
       "<p>1460 rows × 2 columns</p>\n",
       "</div>"
      ],
      "text/plain": [
       "            Date  Energy Consumption\n",
       "0     2020-01-01          305.311409\n",
       "1     2020-01-02          299.374329\n",
       "2     2020-01-03          307.646359\n",
       "3     2020-01-04          316.811967\n",
       "4     2020-01-05          299.651923\n",
       "...          ...                 ...\n",
       "1455  2023-12-26          380.398916\n",
       "1456  2023-12-27          405.951747\n",
       "1457  2023-12-28          402.642110\n",
       "1458  2023-12-29          412.140555\n",
       "1459  2023-12-30          406.387546\n",
       "\n",
       "[1460 rows x 2 columns]"
      ]
     },
     "execution_count": 3,
     "metadata": {},
     "output_type": "execute_result"
    }
   ],
   "source": [
    "df"
   ]
  },
  {
   "cell_type": "code",
   "execution_count": 4,
   "metadata": {},
   "outputs": [],
   "source": [
    "import torch\n",
    "import torch.nn as nn\n",
    "import torch.optim as optim\n",
    "from sklearn.preprocessing import MinMaxScaler\n",
    "import matplotlib.pyplot as plt"
   ]
  },
  {
   "cell_type": "code",
   "execution_count": 2,
   "metadata": {},
   "outputs": [
    {
     "ename": "NameError",
     "evalue": "name 'MinMaxScaler' is not defined",
     "output_type": "error",
     "traceback": [
      "\u001b[0;31m---------------------------------------------------------------------------\u001b[0m",
      "\u001b[0;31mNameError\u001b[0m                                 Traceback (most recent call last)",
      "\u001b[1;32m/Users/mac/Desktop/MST AISD/S3/Transfert Learning/TP/deep_learning/Models/exerice3_model.ipynb Cell 5\u001b[0m line \u001b[0;36m2\n\u001b[1;32m      <a href='vscode-notebook-cell:/Users/mac/Desktop/MST%20AISD/S3/Transfert%20Learning/TP/deep_learning/Models/exerice3_model.ipynb#W4sZmlsZQ%3D%3D?line=0'>1</a>\u001b[0m \u001b[39m# Normalize the 'Energy Consumption' data\u001b[39;00m\n\u001b[0;32m----> <a href='vscode-notebook-cell:/Users/mac/Desktop/MST%20AISD/S3/Transfert%20Learning/TP/deep_learning/Models/exerice3_model.ipynb#W4sZmlsZQ%3D%3D?line=1'>2</a>\u001b[0m scaler \u001b[39m=\u001b[39m MinMaxScaler(feature_range\u001b[39m=\u001b[39m(\u001b[39m0\u001b[39m, \u001b[39m1\u001b[39m))\n\u001b[1;32m      <a href='vscode-notebook-cell:/Users/mac/Desktop/MST%20AISD/S3/Transfert%20Learning/TP/deep_learning/Models/exerice3_model.ipynb#W4sZmlsZQ%3D%3D?line=2'>3</a>\u001b[0m data \u001b[39m=\u001b[39m scaler\u001b[39m.\u001b[39mfit_transform(df[\u001b[39m'\u001b[39m\u001b[39mEnergy Consumption\u001b[39m\u001b[39m'\u001b[39m]\u001b[39m.\u001b[39mvalues\u001b[39m.\u001b[39mreshape(\u001b[39m-\u001b[39m\u001b[39m1\u001b[39m, \u001b[39m1\u001b[39m))\n\u001b[1;32m      <a href='vscode-notebook-cell:/Users/mac/Desktop/MST%20AISD/S3/Transfert%20Learning/TP/deep_learning/Models/exerice3_model.ipynb#W4sZmlsZQ%3D%3D?line=4'>5</a>\u001b[0m lookback \u001b[39m=\u001b[39m \u001b[39m30\u001b[39m  \u001b[39m# Number of previous days to consider for prediction\u001b[39;00m\n",
      "\u001b[0;31mNameError\u001b[0m: name 'MinMaxScaler' is not defined"
     ]
    }
   ],
   "source": [
    "# Normalize the 'Energy Consumption' data\n",
    "scaler = MinMaxScaler(feature_range=(0, 1))\n",
    "data = scaler.fit_transform(df['Energy Consumption'].values.reshape(-1, 1))\n",
    "\n",
    "lookback = 30  # Number of previous days to consider for prediction\n",
    "X, y = [], []\n",
    "\n",
    "for i in range(len(data) - lookback):\n",
    "    X.append(data[i:i + lookback])\n",
    "    y.append(data[i + lookback])\n",
    "\n",
    "X, y = np.array(X), np.array(y)\n",
    "\n",
    "# Convert to PyTorch tensors\n",
    "X = torch.FloatTensor(X).view(-1, lookback, 1)  # Shape: (samples, time_steps, features)\n",
    "y = torch.FloatTensor(y)  # Shape: (samples, 1)"
   ]
  },
  {
   "cell_type": "code",
   "execution_count": 16,
   "metadata": {},
   "outputs": [],
   "source": [
    "import torch\n",
    "import torch.nn as nn\n",
    "\n",
    "class EnergyLSTM(nn.Module):\n",
    "    def __init__(self, input_size=1, hidden_layer_size=50, output_size=1, num_layers=1):\n",
    "        super(EnergyLSTM, self).__init__()\n",
    "        self.hidden_layer_size = hidden_layer_size\n",
    "        self.num_layers = num_layers\n",
    "\n",
    "        # LSTM layer\n",
    "        self.lstm = nn.LSTM(input_size, hidden_layer_size, num_layers, batch_first=True)\n",
    "        \n",
    "        # Fully connected layer\n",
    "        self.fc = nn.Linear(hidden_layer_size, output_size)\n",
    "\n",
    "    def forward(self, x):\n",
    "        h0 = torch.zeros(self.num_layers, x.size(0), self.hidden_layer_size).to(x.device)\n",
    "        c0 = torch.zeros(self.num_layers, x.size(0), self.hidden_layer_size).to(x.device)\n",
    "\n",
    "        # LSTM output\n",
    "        out, _ = self.lstm(x, (h0, c0))\n",
    "        \n",
    "        # Pass the last timestep's output to the fully connected layer\n",
    "        out = self.fc(out[:, -1, :])\n",
    "        return out"
   ]
  },
  {
   "cell_type": "code",
   "execution_count": 17,
   "metadata": {},
   "outputs": [],
   "source": [
    "# Model parameters\n",
    "input_size = 1\n",
    "hidden_layer_size = 50\n",
    "output_size = 1\n",
    "num_layers = 1\n",
    "\n",
    "model = EnergyLSTM(input_size, hidden_layer_size, output_size, num_layers)\n",
    "\n",
    "# Define loss function and optimizer\n",
    "criterion = nn.MSELoss()  # Mean Squared Error for regression\n",
    "optimizer = torch.optim.Adam(model.parameters(), lr=0.001)"
   ]
  },
  {
   "cell_type": "code",
   "execution_count": 19,
   "metadata": {},
   "outputs": [],
   "source": [
    "X_train, X_test, y_train, y_test = train_test_split(X, y, test_size=0.2, random_state=42)"
   ]
  },
  {
   "cell_type": "code",
   "execution_count": 22,
   "metadata": {},
   "outputs": [
    {
     "name": "stdout",
     "output_type": "stream",
     "text": [
      "Epoch [10/500], Train Loss: 0.0058, Validation Loss: 0.0061\n",
      "Epoch [20/500], Train Loss: 0.0054, Validation Loss: 0.0056\n",
      "Epoch [30/500], Train Loss: 0.0052, Validation Loss: 0.0052\n",
      "Epoch [40/500], Train Loss: 0.0050, Validation Loss: 0.0050\n",
      "Epoch [50/500], Train Loss: 0.0048, Validation Loss: 0.0047\n",
      "Epoch [60/500], Train Loss: 0.0047, Validation Loss: 0.0045\n",
      "Epoch [70/500], Train Loss: 0.0046, Validation Loss: 0.0044\n",
      "Epoch [80/500], Train Loss: 0.0045, Validation Loss: 0.0043\n",
      "Epoch [90/500], Train Loss: 0.0045, Validation Loss: 0.0042\n",
      "Epoch [100/500], Train Loss: 0.0045, Validation Loss: 0.0042\n",
      "Epoch [110/500], Train Loss: 0.0045, Validation Loss: 0.0041\n",
      "Epoch [120/500], Train Loss: 0.0045, Validation Loss: 0.0041\n",
      "Epoch [130/500], Train Loss: 0.0045, Validation Loss: 0.0041\n",
      "Epoch [140/500], Train Loss: 0.0045, Validation Loss: 0.0041\n",
      "Epoch [150/500], Train Loss: 0.0045, Validation Loss: 0.0041\n",
      "Epoch [160/500], Train Loss: 0.0045, Validation Loss: 0.0041\n",
      "Epoch [170/500], Train Loss: 0.0044, Validation Loss: 0.0041\n",
      "Epoch [180/500], Train Loss: 0.0044, Validation Loss: 0.0041\n",
      "Epoch [190/500], Train Loss: 0.0044, Validation Loss: 0.0041\n",
      "Epoch [200/500], Train Loss: 0.0044, Validation Loss: 0.0041\n",
      "Epoch [210/500], Train Loss: 0.0044, Validation Loss: 0.0041\n",
      "Epoch [220/500], Train Loss: 0.0044, Validation Loss: 0.0041\n",
      "Epoch [230/500], Train Loss: 0.0044, Validation Loss: 0.0041\n",
      "Epoch [240/500], Train Loss: 0.0044, Validation Loss: 0.0041\n",
      "Epoch [250/500], Train Loss: 0.0044, Validation Loss: 0.0041\n",
      "Epoch [260/500], Train Loss: 0.0044, Validation Loss: 0.0041\n",
      "Epoch [270/500], Train Loss: 0.0044, Validation Loss: 0.0041\n",
      "Epoch [280/500], Train Loss: 0.0044, Validation Loss: 0.0041\n",
      "Epoch [290/500], Train Loss: 0.0044, Validation Loss: 0.0041\n",
      "Epoch [300/500], Train Loss: 0.0044, Validation Loss: 0.0041\n",
      "Epoch [310/500], Train Loss: 0.0044, Validation Loss: 0.0041\n",
      "Epoch [320/500], Train Loss: 0.0044, Validation Loss: 0.0041\n",
      "Epoch [330/500], Train Loss: 0.0044, Validation Loss: 0.0041\n",
      "Epoch [340/500], Train Loss: 0.0044, Validation Loss: 0.0041\n",
      "Epoch [350/500], Train Loss: 0.0044, Validation Loss: 0.0041\n",
      "Epoch [360/500], Train Loss: 0.0044, Validation Loss: 0.0041\n",
      "Epoch [370/500], Train Loss: 0.0044, Validation Loss: 0.0041\n",
      "Epoch [380/500], Train Loss: 0.0044, Validation Loss: 0.0041\n",
      "Epoch [390/500], Train Loss: 0.0044, Validation Loss: 0.0041\n",
      "Epoch [400/500], Train Loss: 0.0044, Validation Loss: 0.0041\n",
      "Epoch [410/500], Train Loss: 0.0044, Validation Loss: 0.0041\n",
      "Epoch [420/500], Train Loss: 0.0044, Validation Loss: 0.0041\n",
      "Epoch [430/500], Train Loss: 0.0044, Validation Loss: 0.0041\n",
      "Epoch [440/500], Train Loss: 0.0044, Validation Loss: 0.0041\n",
      "Epoch [450/500], Train Loss: 0.0044, Validation Loss: 0.0041\n",
      "Epoch [460/500], Train Loss: 0.0044, Validation Loss: 0.0041\n",
      "Epoch [470/500], Train Loss: 0.0044, Validation Loss: 0.0041\n",
      "Epoch [480/500], Train Loss: 0.0044, Validation Loss: 0.0041\n",
      "Epoch [490/500], Train Loss: 0.0044, Validation Loss: 0.0041\n",
      "Epoch [500/500], Train Loss: 0.0044, Validation Loss: 0.0041\n"
     ]
    }
   ],
   "source": [
    "num_epochs = 500\n",
    "train_losses = []\n",
    "val_losses = []\n",
    "\n",
    "for epoch in range(num_epochs):\n",
    "    # Training phase\n",
    "    model.train()\n",
    "    optimizer.zero_grad()\n",
    "    outputs = model(X_train)\n",
    "    train_loss = criterion(outputs, y_train.view(-1, 1))\n",
    "    train_loss.backward()\n",
    "    optimizer.step()\n",
    "    train_losses.append(train_loss.item())\n",
    "    \n",
    "    # Validation phase\n",
    "    model.eval()\n",
    "    with torch.no_grad():\n",
    "        val_outputs = model(X_test)\n",
    "        val_loss = criterion(val_outputs, y_test.view(-1, 1))\n",
    "        val_losses.append(val_loss.item())\n",
    "\n",
    "    # Display the loss every 10 epochs\n",
    "    if (epoch+1) % 10 == 0:\n",
    "        print(f'Epoch [{epoch+1}/{num_epochs}], Train Loss: {train_loss.item():.4f}, Validation Loss: {val_loss.item():.4f}')"
   ]
  },
  {
   "cell_type": "code",
   "execution_count": 21,
   "metadata": {},
   "outputs": [
    {
     "data": {
      "image/png": "[encoded data removed]",
      "text/plain": [
       "<Figure size 1000x600 with 1 Axes>"
      ]
     },
     "metadata": {},
     "output_type": "display_data"
    }
   ],
   "source": [
    "import matplotlib.pyplot as plt\n",
    "\n",
    "# Assuming train_losses and val_losses have been recorded during training\n",
    "epochs = range(1, num_epochs + 1)\n",
    "\n",
    "plt.figure(figsize=(10, 6))\n",
    "plt.plot(epochs, train_losses, label='Train Loss', color='blue', marker='o')\n",
    "plt.plot(epochs, val_losses, label='Validation Loss', color='red', marker='x')\n",
    "plt.xlabel('Epochs')\n",
    "plt.ylabel('Loss')\n",
    "plt.title('Training and Validation Loss Over Epochs')\n",
    "plt.legend()\n",
    "plt.grid(True)\n",
    "plt.show()"
   ]
  },
  {
   "cell_type": "code",
   "execution_count": null,
   "metadata": {},
   "outputs": [],
   "source": []
  }
 ],
 "metadata": {
  "kernelspec": {
   "display_name": "base",
   "language": "python",
   "name": "python3"
  },
  "language_info": {
   "codemirror_mode": {
    "name": "ipython",
    "version": 3
   },
   "file_extension": ".py",
   "mimetype": "text/x-python",
   "name": "python",
   "nbconvert_exporter": "python",
   "pygments_lexer": "ipython3",
   "version": "3.12.4"
  }
 },
 "nbformat": 4,
 "nbformat_minor": 2
}
