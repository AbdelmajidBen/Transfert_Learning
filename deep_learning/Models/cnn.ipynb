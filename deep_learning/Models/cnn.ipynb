{
 "cells": [
  {
   "cell_type": "code",
   "execution_count": 10,
   "metadata": {},
   "outputs": [
    {
     "name": "stderr",
     "output_type": "stream",
     "text": [
      "/opt/anaconda3/lib/python3.12/site-packages/torchvision/models/_utils.py:208: UserWarning: The parameter 'pretrained' is deprecated since 0.13 and may be removed in the future, please use 'weights' instead.\n",
      "  warnings.warn(\n",
      "/opt/anaconda3/lib/python3.12/site-packages/torchvision/models/_utils.py:223: UserWarning: Arguments other than a weight enum or `None` for 'weights' are deprecated since 0.13 and may be removed in the future. The current behavior is equivalent to passing `weights=VGG16_Weights.IMAGENET1K_V1`. You can also use `weights=VGG16_Weights.DEFAULT` to get the most up-to-date weights.\n",
      "  warnings.warn(msg)\n"
     ]
    },
    {
     "name": "stdout",
     "output_type": "stream",
     "text": [
      "1: tiger cat (51.46%)\n",
      "2: Egyptian Mau (18.46%)\n",
      "3: lynx (13.75%)\n",
      "4: tabby cat (13.48%)\n",
      "5: bow tie (0.47%)\n"
     ]
    }
   ],
   "source": [
    "import torch\n",
    "from torchvision import models, transforms\n",
    "from PIL import Image\n",
    "import json\n",
    "model = models.vgg16(pretrained=True)\n",
    "model.eval() \n",
    "\n",
    "preprocess = transforms.Compose([\n",
    "    transforms.Resize((224, 224)),        # Resize to 224x224 as required by VGG16\n",
    "    transforms.ToTensor(),                # Convert the image to a PyTorch tensor\n",
    "    transforms.Normalize(                 # Normalize using ImageNet's mean and std\n",
    "        mean=[0.485, 0.456, 0.406],\n",
    "        std=[0.229, 0.224, 0.225]\n",
    "    ),\n",
    "])\n",
    "image_path = '../datasets/images/im7.jpg'\n",
    "image = Image.open(image_path)\n",
    "image = preprocess(image)\n",
    "image = image.unsqueeze(0)  \n",
    "\n",
    "with torch.no_grad():      \n",
    "    outputs = model(image)\n",
    "with open('labels.json') as f:\n",
    "    labels = json.load(f)\n",
    "_, indices = torch.sort(outputs, descending=True)\n",
    "top5_indices = indices[0][:5].tolist()\n",
    "top5_labels = [labels[idx] for idx in top5_indices]\n",
    "top5_probs = torch.softmax(outputs, dim=1)[0, top5_indices].tolist()\n",
    "for i, (label, prob) in enumerate(zip(top5_labels, top5_probs)):\n",
    "    print(f\"{i+1}: {label} ({prob * 100:.2f}%)\")"
   ]
  },
  {
   "cell_type": "code",
   "execution_count": null,
   "metadata": {},
   "outputs": [],
   "source": []
  }
 ],
 "metadata": {
  "kernelspec": {
   "display_name": "base",
   "language": "python",
   "name": "python3"
  },
  "language_info": {
   "codemirror_mode": {
    "name": "ipython",
    "version": 3
   },
   "file_extension": ".py",
   "mimetype": "text/x-python",
   "name": "python",
   "nbconvert_exporter": "python",
   "pygments_lexer": "ipython3",
   "version": "3.12.4"
  }
 },
 "nbformat": 4,
 "nbformat_minor": 2
}
